{
 "cells": [
  {
   "cell_type": "code",
   "execution_count": 10,
   "metadata": {},
   "outputs": [],
   "source": [
    "import pandas as pd\n",
    "import seaborn as sns\n",
    "import matplotlib.pyplot as plt\n",
    "from sklearn.model_selection import train_test_split\n",
    "from sklearn.linear_model import LogisticRegression\n",
    "from sklearn.tree import DecisionTreeClassifier\n",
    "from sklearn.ensemble import RandomForestClassifier\n",
    "from sklearn.svm import SVC\n",
    "from sklearn.feature_selection import RFE\n",
    "from sklearn.metrics import accuracy_score\n"
   ]
  },
  {
   "cell_type": "code",
   "execution_count": 11,
   "metadata": {},
   "outputs": [],
   "source": [
    "df = pd.read_csv(\"nursery.csv\")"
   ]
  },
  {
   "cell_type": "code",
   "execution_count": 12,
   "metadata": {},
   "outputs": [],
   "source": [
    "initial_rows, initial_cols = df.shape"
   ]
  },
  {
   "cell_type": "code",
   "execution_count": 13,
   "metadata": {},
   "outputs": [],
   "source": [
    "null_values_count = df.isnull().sum().sum()\n",
    "if null_values_count > 0:\n",
    "    print(f\"{null_values_count} null values found in the dataset. Handling null values...\")\n",
    "    df.dropna(inplace=True)\n",
    "    print(\"Null values have been removed.\")"
   ]
  },
  {
   "cell_type": "code",
   "execution_count": 14,
   "metadata": {},
   "outputs": [],
   "source": [
    "duplicates_count = df.duplicated().sum()\n",
    "if duplicates_count > 0:\n",
    "    print(f\"{duplicates_count} duplicate rows found in the dataset. Handling duplicates...\")\n",
    "    df.drop_duplicates(inplace=True)\n",
    "    print(\"Duplicate rows have been removed.\")"
   ]
  },
  {
   "cell_type": "code",
   "execution_count": 15,
   "metadata": {},
   "outputs": [],
   "source": [
    "updated_rows, updated_cols = df.shape"
   ]
  },
  {
   "cell_type": "code",
   "execution_count": 16,
   "metadata": {},
   "outputs": [
    {
     "name": "stdout",
     "output_type": "stream",
     "text": [
      "\n",
      "Dataset Information After Cleaning:\n",
      "<class 'pandas.core.frame.DataFrame'>\n",
      "RangeIndex: 12960 entries, 0 to 12959\n",
      "Data columns (total 9 columns):\n",
      " #   Column    Non-Null Count  Dtype \n",
      "---  ------    --------------  ----- \n",
      " 0   parents   12960 non-null  object\n",
      " 1   has_nurs  12960 non-null  object\n",
      " 2   form      12960 non-null  object\n",
      " 3   children  12960 non-null  object\n",
      " 4   housing   12960 non-null  object\n",
      " 5   finance   12960 non-null  object\n",
      " 6   social    12960 non-null  object\n",
      " 7   health    12960 non-null  object\n",
      " 8   class     12960 non-null  object\n",
      "dtypes: object(9)\n",
      "memory usage: 911.4+ KB\n",
      "None\n",
      "\n",
      "Summary Statistics After Cleaning:\n",
      "       parents has_nurs      form children     housing     finance   social  \\\n",
      "count    12960    12960     12960    12960       12960       12960    12960   \n",
      "unique       3        5         4        4           3           2        3   \n",
      "top      usual   proper  complete        1  convenient  convenient  nonprob   \n",
      "freq      4320     2592      3240     3240        4320        6480     4320   \n",
      "\n",
      "             health      class  \n",
      "count         12960      12960  \n",
      "unique            3          5  \n",
      "top     recommended  not_recom  \n",
      "freq           4320       4320  \n",
      "\n",
      "Cleaning Summary:\n",
      "Initial Dataset Size: 12960 rows, 9 columns\n",
      "Updated Dataset Size: 12960 rows, 9 columns\n",
      "Rows Removed: 0\n",
      "Columns Removed: 0\n"
     ]
    }
   ],
   "source": [
    "print(\"\\nDataset Information After Cleaning:\")\n",
    "print(df.info())\n",
    "\n",
    "print(\"\\nSummary Statistics After Cleaning:\")\n",
    "print(df.describe())\n",
    "\n",
    "print(\"\\nCleaning Summary:\")\n",
    "print(f\"Initial Dataset Size: {initial_rows} rows, {initial_cols} columns\")\n",
    "print(f\"Updated Dataset Size: {updated_rows} rows, {updated_cols} columns\")\n",
    "print(f\"Rows Removed: {initial_rows - updated_rows}\")\n",
    "print(f\"Columns Removed: {initial_cols - updated_cols}\")"
   ]
  },
  {
   "cell_type": "code",
   "execution_count": 19,
   "metadata": {},
   "outputs": [
    {
     "data": {
      "text/plain": [
       "Index(['parents', 'has_nurs', 'form', 'children', 'housing', 'finance',\n",
       "       'social', 'health', 'class'],\n",
       "      dtype='object')"
      ]
     },
     "execution_count": 19,
     "metadata": {},
     "output_type": "execute_result"
    }
   ],
   "source": [
    "df.columns"
   ]
  },
  {
   "cell_type": "code",
   "execution_count": null,
   "metadata": {},
   "outputs": [],
   "source": []
  }
 ],
 "metadata": {
  "kernelspec": {
   "display_name": "Python 3",
   "language": "python",
   "name": "python3"
  },
  "language_info": {
   "codemirror_mode": {
    "name": "ipython",
    "version": 3
   },
   "file_extension": ".py",
   "mimetype": "text/x-python",
   "name": "python",
   "nbconvert_exporter": "python",
   "pygments_lexer": "ipython3",
   "version": "3.10.11"
  }
 },
 "nbformat": 4,
 "nbformat_minor": 2
}
