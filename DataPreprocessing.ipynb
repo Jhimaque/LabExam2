{
 "cells": [
  {
   "cell_type": "code",
   "execution_count": 23,
   "metadata": {},
   "outputs": [],
   "source": [
    "import pandas as pd\n"
   ]
  },
  {
   "cell_type": "code",
   "execution_count": 24,
   "metadata": {},
   "outputs": [],
   "source": [
    "df = pd.read_csv(\"nursery.csv\")"
   ]
  },
  {
   "cell_type": "code",
   "execution_count": 25,
   "metadata": {},
   "outputs": [],
   "source": [
    "initial_rows, initial_cols = df.shape"
   ]
  },
  {
   "cell_type": "code",
   "execution_count": 26,
   "metadata": {},
   "outputs": [],
   "source": [
    "null_values_count = df.isnull().sum().sum()\n",
    "if null_values_count > 0:\n",
    "    print(f\"{null_values_count} null values found in the dataset. Handling null values...\")\n",
    "    df.dropna(inplace=True)\n",
    "    print(\"Null values have been removed.\")"
   ]
  },
  {
   "cell_type": "code",
   "execution_count": 27,
   "metadata": {},
   "outputs": [],
   "source": [
    "duplicates_count = df.duplicated().sum()\n",
    "if duplicates_count > 0:\n",
    "    print(f\"{duplicates_count} duplicate rows found in the dataset. Handling duplicates...\")\n",
    "    df.drop_duplicates(inplace=True)\n",
    "    print(\"Duplicate rows have been removed.\")"
   ]
  },
  {
   "cell_type": "code",
   "execution_count": 28,
   "metadata": {},
   "outputs": [],
   "source": [
    "updated_rows, updated_cols = df.shape"
   ]
  },
  {
   "cell_type": "code",
   "execution_count": 29,
   "metadata": {},
   "outputs": [
    {
     "name": "stdout",
     "output_type": "stream",
     "text": [
      "\n",
      "Dataset Information After Cleaning:\n",
      "<class 'pandas.core.frame.DataFrame'>\n",
      "RangeIndex: 12960 entries, 0 to 12959\n",
      "Data columns (total 9 columns):\n",
      " #   Column    Non-Null Count  Dtype \n",
      "---  ------    --------------  ----- \n",
      " 0   parents   12960 non-null  object\n",
      " 1   has_nurs  12960 non-null  object\n",
      " 2   form      12960 non-null  object\n",
      " 3   children  12960 non-null  object\n",
      " 4   housing   12960 non-null  object\n",
      " 5   finance   12960 non-null  object\n",
      " 6   social    12960 non-null  object\n",
      " 7   health    12960 non-null  object\n",
      " 8   class     12960 non-null  object\n",
      "dtypes: object(9)\n",
      "memory usage: 911.4+ KB\n",
      "None\n",
      "\n",
      "Summary Statistics After Cleaning:\n",
      "       parents has_nurs      form children     housing     finance   social  \\\n",
      "count    12960    12960     12960    12960       12960       12960    12960   \n",
      "unique       3        5         4        4           3           2        3   \n",
      "top      usual   proper  complete        1  convenient  convenient  nonprob   \n",
      "freq      4320     2592      3240     3240        4320        6480     4320   \n",
      "\n",
      "             health      class  \n",
      "count         12960      12960  \n",
      "unique            3          5  \n",
      "top     recommended  not_recom  \n",
      "freq           4320       4320  \n",
      "\n",
      "Cleaning Summary:\n",
      "Initial Dataset Size: 12960 rows, 9 columns\n",
      "Updated Dataset Size: 12960 rows, 9 columns\n",
      "Rows Removed: 0\n",
      "Columns Removed: 0\n"
     ]
    }
   ],
   "source": [
    "print(\"\\nDataset Information After Cleaning:\")\n",
    "print(df.info())\n",
    "\n",
    "print(\"\\nSummary Statistics After Cleaning:\")\n",
    "print(df.describe())\n",
    "\n",
    "print(\"\\nCleaning Summary:\")\n",
    "print(f\"Initial Dataset Size: {initial_rows} rows, {initial_cols} columns\")\n",
    "print(f\"Updated Dataset Size: {updated_rows} rows, {updated_cols} columns\")\n",
    "print(f\"Rows Removed: {initial_rows - updated_rows}\")\n",
    "print(f\"Columns Removed: {initial_cols - updated_cols}\")"
   ]
  },
  {
   "cell_type": "code",
   "execution_count": 30,
   "metadata": {},
   "outputs": [
    {
     "data": {
      "text/plain": [
       "Index(['parents', 'has_nurs', 'form', 'children', 'housing', 'finance',\n",
       "       'social', 'health', 'class'],\n",
       "      dtype='object')"
      ]
     },
     "execution_count": 30,
     "metadata": {},
     "output_type": "execute_result"
    }
   ],
   "source": [
    "df.columns"
   ]
  },
  {
   "cell_type": "code",
   "execution_count": 31,
   "metadata": {},
   "outputs": [
    {
     "data": {
      "text/plain": [
       "<bound method NDFrame.describe of           parents   has_nurs      form children     housing     finance  \\\n",
       "0           usual     proper  complete        1  convenient  convenient   \n",
       "1           usual     proper  complete        1  convenient  convenient   \n",
       "2           usual     proper  complete        1  convenient  convenient   \n",
       "3           usual     proper  complete        1  convenient  convenient   \n",
       "4           usual     proper  complete        1  convenient  convenient   \n",
       "...           ...        ...       ...      ...         ...         ...   \n",
       "12955  great_pret  very_crit    foster     more    critical      inconv   \n",
       "12956  great_pret  very_crit    foster     more    critical      inconv   \n",
       "12957  great_pret  very_crit    foster     more    critical      inconv   \n",
       "12958  great_pret  very_crit    foster     more    critical      inconv   \n",
       "12959  great_pret  very_crit    foster     more    critical      inconv   \n",
       "\n",
       "              social       health       class  \n",
       "0            nonprob  recommended   recommend  \n",
       "1            nonprob     priority    priority  \n",
       "2            nonprob    not_recom   not_recom  \n",
       "3      slightly_prob  recommended   recommend  \n",
       "4      slightly_prob     priority    priority  \n",
       "...              ...          ...         ...  \n",
       "12955  slightly_prob     priority  spec_prior  \n",
       "12956  slightly_prob    not_recom   not_recom  \n",
       "12957    problematic  recommended  spec_prior  \n",
       "12958    problematic     priority  spec_prior  \n",
       "12959    problematic    not_recom   not_recom  \n",
       "\n",
       "[12960 rows x 9 columns]>"
      ]
     },
     "execution_count": 31,
     "metadata": {},
     "output_type": "execute_result"
    }
   ],
   "source": [
    "df.describe\n",
    "\n"
   ]
  },
  {
   "cell_type": "code",
   "execution_count": 32,
   "metadata": {},
   "outputs": [],
   "source": [
    "df['parents'] = df['parents'].str.replace('usual', '1')\n",
    "df['parents'] = df['parents'].str.replace('pretentious', '2')\n",
    "df['parents'] = df['parents'].str.replace('great_pret', '3')\n",
    "\n",
    "df['has_nurs'] = df['has_nurs'].str.replace('proper', '1')\n",
    "df['has_nurs'] = df['has_nurs'].str.replace('less_proper', '2')\n",
    "df['has_nurs'] = df['has_nurs'].str.replace('less_1', '2') \n",
    "df['has_nurs'] = df['has_nurs'].str.replace('improper', '3')\n",
    "df['has_nurs'] = df['has_nurs'].str.replace('im1', '3')\n",
    "df['has_nurs'] = df['has_nurs'].str.replace('critical', '4')\n",
    "df['has_nurs'] = df['has_nurs'].str.replace('very_crit', '5')\n",
    "\n",
    "df['form'] = df['form'].str.replace('complete', '1')\n",
    "df['form'] = df['form'].str.replace('completed', '2')\n",
    "df['form'] = df['form'].str.replace('1d', '2')\n",
    "df['form'] = df['form'].str.replace('incomplete', '3')\n",
    "df['form'] = df['form'].str.replace('in1', '3')\n",
    "df['form'] = df['form'].str.replace('foster', '4')\n",
    "\n",
    "df['children'] = df['children'].str.replace('more', '4')\n",
    "\n",
    "df['housing'] = df['housing'].str.replace('convenient', '1')\n",
    "df['housing'] = df['housing'].str.replace('less_conv', '2')\n",
    "df['housing'] = df['housing'].str.replace('critical', '3')\n",
    "\n",
    "df['finance'] = df['finance'].str.replace('convenient', '1')\n",
    "df['finance'] = df['finance'].str.replace('inconv', '2')\n",
    "\n",
    "df['social'] = df['social'].str.replace('nonprob', '1')\n",
    "df['social'] = df['social'].str.replace('slightly_prob', '2')\n",
    "df['social'] = df['social'].str.replace('problematic', '3')\n",
    "\n",
    "df['health'] = df['health'].str.replace('recommended', '1')\n",
    "df['health'] = df['health'].str.replace('priority', '2')\n",
    "df['health'] = df['health'].str.replace('not_recom', '3')\n",
    "\n",
    "df['class'] = df['class'].str.replace('recommended', '1')\n",
    "df['class'] = df['class'].str.replace('recommend', '1')\n",
    "df['class'] = df['class'].str.replace('priority', '2')\n",
    "df['class'] = df['class'].str.replace('very_recom', '2')\n",
    "df['class'] = df['class'].str.replace('spec_prior', '2')\n",
    "df['class'] = df['class'].str.replace('not_recom', '3')\n",
    "\n",
    "df.to_csv('nursery_numerical.csv', index=False)\n",
    "\n"
   ]
  }
 ],
 "metadata": {
  "kernelspec": {
   "display_name": "Python 3",
   "language": "python",
   "name": "python3"
  },
  "language_info": {
   "codemirror_mode": {
    "name": "ipython",
    "version": 3
   },
   "file_extension": ".py",
   "mimetype": "text/x-python",
   "name": "python",
   "nbconvert_exporter": "python",
   "pygments_lexer": "ipython3",
   "version": "3.10.11"
  }
 },
 "nbformat": 4,
 "nbformat_minor": 2
}
